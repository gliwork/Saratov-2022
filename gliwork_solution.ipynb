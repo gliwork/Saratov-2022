{
 "cells": [
  {
   "cell_type": "code",
   "execution_count": 12,
   "id": "4ae51cb2",
   "metadata": {},
   "outputs": [],
   "source": [
    "import pandas as pd\n",
    "\n",
    "from sklearn.model_selection import train_test_split\n",
    "from sklearn.metrics import recall_score\n",
    "from sklearn.linear_model import PassiveAggressiveClassifier\n",
    "from sklearn.multiclass import OneVsRestClassifier\n",
    "from sklearn.linear_model import Perceptron\n",
    "\n"
   ]
  },
  {
   "cell_type": "code",
   "execution_count": 13,
   "id": "7ded1394",
   "metadata": {},
   "outputs": [],
   "source": [
    "from sklearn.feature_extraction.text import TfidfVectorizer\n",
    "from time import time\n"
   ]
  },
  {
   "cell_type": "code",
   "execution_count": null,
   "id": "f5f01133",
   "metadata": {},
   "outputs": [],
   "source": []
  },
  {
   "cell_type": "code",
   "execution_count": 14,
   "id": "ba2ffb5f",
   "metadata": {},
   "outputs": [
    {
     "data": {
      "text/html": [
       "<div>\n",
       "<style scoped>\n",
       "    .dataframe tbody tr th:only-of-type {\n",
       "        vertical-align: middle;\n",
       "    }\n",
       "\n",
       "    .dataframe tbody tr th {\n",
       "        vertical-align: top;\n",
       "    }\n",
       "\n",
       "    .dataframe thead th {\n",
       "        text-align: right;\n",
       "    }\n",
       "</style>\n",
       "<table border=\"1\" class=\"dataframe\">\n",
       "  <thead>\n",
       "    <tr style=\"text-align: right;\">\n",
       "      <th></th>\n",
       "      <th>id</th>\n",
       "      <th>name</th>\n",
       "      <th>groups</th>\n",
       "    </tr>\n",
       "  </thead>\n",
       "  <tbody>\n",
       "    <tr>\n",
       "      <th>0</th>\n",
       "      <td>1034</td>\n",
       "      <td>ШОК-ЦЕНА Пена д/душа/бритья КУППЕР 200 мл АКС</td>\n",
       "      <td>10</td>\n",
       "    </tr>\n",
       "    <tr>\n",
       "      <th>1</th>\n",
       "      <td>1035</td>\n",
       "      <td>Мин.вода Нагутская №26    0.5л</td>\n",
       "      <td>0</td>\n",
       "    </tr>\n",
       "    <tr>\n",
       "      <th>2</th>\n",
       "      <td>1036</td>\n",
       "      <td>Пельмени Домашние вес ПО Прямицино.</td>\n",
       "      <td>10</td>\n",
       "    </tr>\n",
       "    <tr>\n",
       "      <th>3</th>\n",
       "      <td>1037</td>\n",
       "      <td>ПЕЧЕНЬЕ ОВСЯНО-ГРЕЧНЕВОЕ ЭКО БОТ 4600508719365</td>\n",
       "      <td>10</td>\n",
       "    </tr>\n",
       "    <tr>\n",
       "      <th>4</th>\n",
       "      <td>1038</td>\n",
       "      <td>Спред растительно-жировой Масляничка 62% 170г ...</td>\n",
       "      <td>10</td>\n",
       "    </tr>\n",
       "  </tbody>\n",
       "</table>\n",
       "</div>"
      ],
      "text/plain": [
       "     id                                               name  groups\n",
       "0  1034      ШОК-ЦЕНА Пена д/душа/бритья КУППЕР 200 мл АКС      10\n",
       "1  1035                     Мин.вода Нагутская №26    0.5л       0\n",
       "2  1036                Пельмени Домашние вес ПО Прямицино.      10\n",
       "3  1037     ПЕЧЕНЬЕ ОВСЯНО-ГРЕЧНЕВОЕ ЭКО БОТ 4600508719365      10\n",
       "4  1038  Спред растительно-жировой Масляничка 62% 170г ...      10"
      ]
     },
     "execution_count": 14,
     "metadata": {},
     "output_type": "execute_result"
    }
   ],
   "source": [
    "#read data\n",
    "df = pd.read_csv(\"train_dataset_train.csv\")\n",
    "df.head(5)"
   ]
  },
  {
   "cell_type": "code",
   "execution_count": 15,
   "id": "a8ca4e34",
   "metadata": {},
   "outputs": [],
   "source": [
    "def prepare_data(data):\n",
    "    X=data.str.split('.').map(lambda x: str(x)) #remove dots and converts to strings\n",
    "      \n",
    "    return X"
   ]
  },
  {
   "cell_type": "code",
   "execution_count": 16,
   "id": "97b29623",
   "metadata": {},
   "outputs": [],
   "source": [
    "#split samples\n",
    "df=df\n",
    "X_all = prepare_data(df.name)\n",
    "y=df.groups\n",
    "X_train, X_test, y_train, y_test = train_test_split(X_all, y, test_size=0.2, random_state=42)"
   ]
  },
  {
   "cell_type": "code",
   "execution_count": 17,
   "id": "397aa28f",
   "metadata": {},
   "outputs": [],
   "source": [
    "# Extracting features from the training data using a sparse vectorizer\n",
    "#vectorize all the data, but it could be done for training samples only\n",
    "\n",
    "vectorizer = TfidfVectorizer(input='content')\n",
    "X=vectorizer.fit_transform(X_all)"
   ]
  },
  {
   "cell_type": "code",
   "execution_count": 18,
   "id": "552f38c4",
   "metadata": {},
   "outputs": [],
   "source": [
    "# Extracting features from the training data using a sparse vectorizer\n",
    "\n",
    "X_tr = vectorizer.transform(X_train)#vectorizer.fit_transform(X_train)\n",
    "# Extracting features from the test data using the same vectorizer\n",
    "X_te = vectorizer.transform(X_test)\n",
    "\n",
    "\n",
    "feature_names = vectorizer.get_feature_names_out()\n",
    "     "
   ]
  },
  {
   "cell_type": "code",
   "execution_count": 19,
   "id": "1141c6d2",
   "metadata": {},
   "outputs": [
    {
     "data": {
      "text/plain": [
       "(208441,)"
      ]
     },
     "execution_count": 19,
     "metadata": {},
     "output_type": "execute_result"
    }
   ],
   "source": [
    "feature_names.shape"
   ]
  },
  {
   "cell_type": "code",
   "execution_count": null,
   "id": "5d1278c1",
   "metadata": {},
   "outputs": [],
   "source": [
    "from sklearn.ensemble import RandomForestClassifier\n",
    "\n",
    "clf1 = OneVsRestClassifier(PassiveAggressiveClassifier())\n",
    "\n",
    "clf1.fit(X_tr, y_train)\n",
    "\n",
    "y_pred1 = clf1.predict(X_te)\n",
    "\n",
    "print(' PassiveAgressive: ',recall_score(y_test, y_pred1, average='macro'))\n"
   ]
  },
  {
   "cell_type": "code",
   "execution_count": null,
   "id": "a2cb0f30",
   "metadata": {},
   "outputs": [],
   "source": [
    "recall_score(y_test, y_pred2, average=None)#[0.99137735, 0.78043735, 0.83246073, 0.99212781, 0.98930966, 0.84974619, 0.90082645, 0.9727491 , 0.99323383]"
   ]
  },
  {
   "cell_type": "code",
   "execution_count": null,
   "id": "16ab7fc8",
   "metadata": {},
   "outputs": [],
   "source": [
    "#read test data and predict\n",
    "df_test = pd.read_csv(\"test_dataset_test.csv\")\n",
    "X_pred = prepare_data(df_test.name) "
   ]
  },
  {
   "cell_type": "code",
   "execution_count": null,
   "id": "8da0eb46",
   "metadata": {},
   "outputs": [],
   "source": [
    "#Preparing final model trained on all data and transform X_test\n",
    "X = vectorizer.fit_transform(X_all)\n",
    "X_pred = vectorizer.transform(X_pred)\n"
   ]
  },
  {
   "cell_type": "code",
   "execution_count": null,
   "id": "869b75bf",
   "metadata": {},
   "outputs": [],
   "source": [
    "#train model an all data and predict on test\n",
    "clf = clf1\n",
    "clf.fit(X, y)\n",
    "y_out = clf.predict(X_pred)"
   ]
  },
  {
   "cell_type": "code",
   "execution_count": 167,
   "id": "44dd2c1e",
   "metadata": {},
   "outputs": [],
   "source": [
    "df_submission = pd.read_csv(\"sample_solution.csv\")\n"
   ]
  },
  {
   "cell_type": "code",
   "execution_count": 168,
   "id": "8defdff9",
   "metadata": {},
   "outputs": [],
   "source": [
    "df_submission.groups = y_out"
   ]
  },
  {
   "cell_type": "code",
   "execution_count": 170,
   "id": "3f194982",
   "metadata": {},
   "outputs": [
    {
     "data": {
      "text/html": [
       "<div>\n",
       "<style scoped>\n",
       "    .dataframe tbody tr th:only-of-type {\n",
       "        vertical-align: middle;\n",
       "    }\n",
       "\n",
       "    .dataframe tbody tr th {\n",
       "        vertical-align: top;\n",
       "    }\n",
       "\n",
       "    .dataframe thead th {\n",
       "        text-align: right;\n",
       "    }\n",
       "</style>\n",
       "<table border=\"1\" class=\"dataframe\">\n",
       "  <thead>\n",
       "    <tr style=\"text-align: right;\">\n",
       "      <th></th>\n",
       "      <th>id</th>\n",
       "      <th>groups</th>\n",
       "    </tr>\n",
       "  </thead>\n",
       "  <tbody>\n",
       "    <tr>\n",
       "      <th>0</th>\n",
       "      <td>10529</td>\n",
       "      <td>10</td>\n",
       "    </tr>\n",
       "    <tr>\n",
       "      <th>1</th>\n",
       "      <td>10530</td>\n",
       "      <td>10</td>\n",
       "    </tr>\n",
       "    <tr>\n",
       "      <th>2</th>\n",
       "      <td>10531</td>\n",
       "      <td>10</td>\n",
       "    </tr>\n",
       "    <tr>\n",
       "      <th>3</th>\n",
       "      <td>10532</td>\n",
       "      <td>0</td>\n",
       "    </tr>\n",
       "    <tr>\n",
       "      <th>4</th>\n",
       "      <td>10533</td>\n",
       "      <td>10</td>\n",
       "    </tr>\n",
       "  </tbody>\n",
       "</table>\n",
       "</div>"
      ],
      "text/plain": [
       "      id  groups\n",
       "0  10529      10\n",
       "1  10530      10\n",
       "2  10531      10\n",
       "3  10532       0\n",
       "4  10533      10"
      ]
     },
     "execution_count": 170,
     "metadata": {},
     "output_type": "execute_result"
    }
   ],
   "source": [
    "df_submission.head(5)"
   ]
  },
  {
   "cell_type": "code",
   "execution_count": 171,
   "id": "3f97bf48",
   "metadata": {},
   "outputs": [],
   "source": [
    "submission = 'submission_final.csv'\n",
    "df_submission.to_csv(submission, index=False)"
   ]
  },
  {
   "cell_type": "code",
   "execution_count": null,
   "id": "25a3e9b1",
   "metadata": {},
   "outputs": [],
   "source": []
  }
 ],
 "metadata": {
  "kernelspec": {
   "display_name": "Python 3 (ipykernel)",
   "language": "python",
   "name": "python3"
  },
  "language_info": {
   "codemirror_mode": {
    "name": "ipython",
    "version": 3
   },
   "file_extension": ".py",
   "mimetype": "text/x-python",
   "name": "python",
   "nbconvert_exporter": "python",
   "pygments_lexer": "ipython3",
   "version": "3.8.13"
  }
 },
 "nbformat": 4,
 "nbformat_minor": 5
}
